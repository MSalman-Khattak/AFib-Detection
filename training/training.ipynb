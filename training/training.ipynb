{
 "cells": [
  {
   "cell_type": "code",
   "execution_count": 45,
   "metadata": {},
   "outputs": [],
   "source": [
    "from sklearn.model_selection import train_test_split\n",
    "from sklearn.metrics import accuracy_score, classification_report\n",
    "\n",
    "import os\n",
    "import pandas as pd\n",
    "import random\n",
    "\n",
    "from sklearn.neighbors import KNeighborsClassifier\n",
    "from sklearn.ensemble import RandomForestClassifier\n",
    "from sklearn.ensemble import AdaBoostClassifier\n",
    "from sklearn.linear_model import SGDClassifier\n",
    "\n",
    "\n",
    "import pickle"
   ]
  },
  {
   "cell_type": "markdown",
   "metadata": {},
   "source": [
    "## Dataset combined"
   ]
  },
  {
   "cell_type": "code",
   "execution_count": 46,
   "metadata": {},
   "outputs": [],
   "source": [
    "def Extract_5Min_Data(Folder, OutPut_Folder ,label = 0):\n",
    "    for file in os.listdir(Folder):\n",
    "        if file.endswith(\".csv\"):\n",
    "            filePath = os.path.join(Folder, file)\n",
    "            df = pd.read_csv(filePath)[:630]\n",
    "            df[\"Class\"] = label\n",
    "            new_FileName = file\n",
    "            output_Path = os.path.join(OutPut_Folder, new_FileName)\n",
    "            df.to_csv(output_Path, index = False)\n",
    "      \n",
    "mimic_af_folder = \"mimic_perform_af_csv\"\n",
    "output_af_Folder = \"data/raw_data/Output_AF/\"\n",
    "Extract_5Min_Data(mimic_af_folder, output_af_Folder)\n",
    "\n",
    "mimic_non_af_folder = \"mimic_perform_non_af_csv\"\n",
    "output_non_af_Folder = \"data/raw_data/Output_Non_AF/\"\n",
    "Extract_5Min_Data(mimic_non_af_folder, output_non_af_Folder, 1)"
   ]
  },
  {
   "cell_type": "code",
   "execution_count": 47,
   "metadata": {},
   "outputs": [],
   "source": [
    "def make_Dataset(folder1, folder2):\n",
    "    folderList = [folder1, folder2]\n",
    "    combine_df = pd.DataFrame()\n",
    "\n",
    "    for folder in folderList:\n",
    "        for file in os.listdir(folder):\n",
    "            if file.endswith(\".csv\"):\n",
    "                filePath = os.path.join(folder, file)\n",
    "                df = pd.read_csv(filePath)\n",
    "                combine_df = pd.concat([combine_df, df])\n",
    "\n",
    "    combine_df = combine_df.sample(frac=1)  # Shuffle the DataFrame\n",
    "    output_Path = \"PPG_Signals.csv\"\n",
    "    combine_df.to_csv(output_Path, index=False)\n",
    "\n",
    "make_Dataset(output_af_Folder, output_non_af_Folder)"
   ]
  },
  {
   "cell_type": "markdown",
   "metadata": {},
   "source": [
    "## Loading Dataset + Preprocessing"
   ]
  },
  {
   "cell_type": "code",
   "execution_count": 48,
   "metadata": {},
   "outputs": [
    {
     "data": {
      "text/html": [
       "<div>\n",
       "<style scoped>\n",
       "    .dataframe tbody tr th:only-of-type {\n",
       "        vertical-align: middle;\n",
       "    }\n",
       "\n",
       "    .dataframe tbody tr th {\n",
       "        vertical-align: top;\n",
       "    }\n",
       "\n",
       "    .dataframe thead th {\n",
       "        text-align: right;\n",
       "    }\n",
       "</style>\n",
       "<table border=\"1\" class=\"dataframe\">\n",
       "  <thead>\n",
       "    <tr style=\"text-align: right;\">\n",
       "      <th></th>\n",
       "      <th>Time</th>\n",
       "      <th>PPG</th>\n",
       "      <th>ECG</th>\n",
       "      <th>resp</th>\n",
       "      <th>Class</th>\n",
       "    </tr>\n",
       "  </thead>\n",
       "  <tbody>\n",
       "    <tr>\n",
       "      <th>0</th>\n",
       "      <td>3.264</td>\n",
       "      <td>0.414467</td>\n",
       "      <td>0.365325</td>\n",
       "      <td>-0.207831</td>\n",
       "      <td>0</td>\n",
       "    </tr>\n",
       "    <tr>\n",
       "      <th>1</th>\n",
       "      <td>1.048</td>\n",
       "      <td>0.266667</td>\n",
       "      <td>0.515625</td>\n",
       "      <td>NaN</td>\n",
       "      <td>1</td>\n",
       "    </tr>\n",
       "    <tr>\n",
       "      <th>2</th>\n",
       "      <td>1.216</td>\n",
       "      <td>0.266667</td>\n",
       "      <td>0.382812</td>\n",
       "      <td>NaN</td>\n",
       "      <td>0</td>\n",
       "    </tr>\n",
       "    <tr>\n",
       "      <th>3</th>\n",
       "      <td>2.544</td>\n",
       "      <td>2.384164</td>\n",
       "      <td>0.264907</td>\n",
       "      <td>-0.914089</td>\n",
       "      <td>0</td>\n",
       "    </tr>\n",
       "    <tr>\n",
       "      <th>4</th>\n",
       "      <td>2.984</td>\n",
       "      <td>0.650049</td>\n",
       "      <td>0.689453</td>\n",
       "      <td>0.148583</td>\n",
       "      <td>1</td>\n",
       "    </tr>\n",
       "  </tbody>\n",
       "</table>\n",
       "</div>"
      ],
      "text/plain": [
       "    Time       PPG       ECG      resp  Class\n",
       "0  3.264  0.414467  0.365325 -0.207831      0\n",
       "1  1.048  0.266667  0.515625       NaN      1\n",
       "2  1.216  0.266667  0.382812       NaN      0\n",
       "3  2.544  2.384164  0.264907 -0.914089      0\n",
       "4  2.984  0.650049  0.689453  0.148583      1"
      ]
     },
     "execution_count": 48,
     "metadata": {},
     "output_type": "execute_result"
    }
   ],
   "source": [
    "df = pd.read_csv('PPG_Signals.csv')\n",
    "df.head()"
   ]
  },
  {
   "cell_type": "code",
   "execution_count": 49,
   "metadata": {},
   "outputs": [
    {
     "name": "stdout",
     "output_type": "stream",
     "text": [
      "<class 'pandas.core.frame.DataFrame'>\n",
      "RangeIndex: 22050 entries, 0 to 22049\n",
      "Data columns (total 5 columns):\n",
      " #   Column  Non-Null Count  Dtype  \n",
      "---  ------  --------------  -----  \n",
      " 0   Time    22050 non-null  float64\n",
      " 1   PPG     21742 non-null  float64\n",
      " 2   ECG     22050 non-null  float64\n",
      " 3   resp    16380 non-null  float64\n",
      " 4   Class   22050 non-null  int64  \n",
      "dtypes: float64(4), int64(1)\n",
      "memory usage: 861.5 KB\n"
     ]
    }
   ],
   "source": [
    "df.info()"
   ]
  },
  {
   "cell_type": "code",
   "execution_count": 50,
   "metadata": {},
   "outputs": [
    {
     "data": {
      "text/plain": [
       "Time        0\n",
       "PPG       308\n",
       "ECG         0\n",
       "resp     5670\n",
       "Class       0\n",
       "dtype: int64"
      ]
     },
     "execution_count": 50,
     "metadata": {},
     "output_type": "execute_result"
    }
   ],
   "source": [
    "df.isnull().sum()"
   ]
  },
  {
   "cell_type": "code",
   "execution_count": 51,
   "metadata": {},
   "outputs": [
    {
     "name": "stderr",
     "output_type": "stream",
     "text": [
      "C:\\Users\\muham\\AppData\\Local\\Temp\\ipykernel_16572\\3427237663.py:1: FutureWarning: A value is trying to be set on a copy of a DataFrame or Series through chained assignment using an inplace method.\n",
      "The behavior will change in pandas 3.0. This inplace method will never work because the intermediate object on which we are setting values always behaves as a copy.\n",
      "\n",
      "For example, when doing 'df[col].method(value, inplace=True)', try using 'df.method({col: value}, inplace=True)' or df[col] = df[col].method(value) instead, to perform the operation inplace on the original object.\n",
      "\n",
      "\n",
      "  df[\"PPG\"].fillna(df[\"PPG\"].mean(), inplace = True)\n",
      "C:\\Users\\muham\\AppData\\Local\\Temp\\ipykernel_16572\\3427237663.py:2: FutureWarning: A value is trying to be set on a copy of a DataFrame or Series through chained assignment using an inplace method.\n",
      "The behavior will change in pandas 3.0. This inplace method will never work because the intermediate object on which we are setting values always behaves as a copy.\n",
      "\n",
      "For example, when doing 'df[col].method(value, inplace=True)', try using 'df.method({col: value}, inplace=True)' or df[col] = df[col].method(value) instead, to perform the operation inplace on the original object.\n",
      "\n",
      "\n",
      "  df[\"resp\"].fillna(df[\"resp\"].mean(), inplace = True)\n"
     ]
    }
   ],
   "source": [
    "df[\"PPG\"].fillna(df[\"PPG\"].mean(), inplace = True)\n",
    "df[\"resp\"].fillna(df[\"resp\"].mean(), inplace = True)\n",
    "\n",
    "df.drop(\"Time\", axis = 1, inplace = True)"
   ]
  },
  {
   "cell_type": "code",
   "execution_count": 52,
   "metadata": {},
   "outputs": [
    {
     "data": {
      "text/plain": [
       "PPG      0\n",
       "ECG      0\n",
       "resp     0\n",
       "Class    0\n",
       "dtype: int64"
      ]
     },
     "execution_count": 52,
     "metadata": {},
     "output_type": "execute_result"
    }
   ],
   "source": [
    "df.isnull().sum()"
   ]
  },
  {
   "cell_type": "code",
   "execution_count": 53,
   "metadata": {},
   "outputs": [
    {
     "data": {
      "text/html": [
       "<div>\n",
       "<style scoped>\n",
       "    .dataframe tbody tr th:only-of-type {\n",
       "        vertical-align: middle;\n",
       "    }\n",
       "\n",
       "    .dataframe tbody tr th {\n",
       "        vertical-align: top;\n",
       "    }\n",
       "\n",
       "    .dataframe thead th {\n",
       "        text-align: right;\n",
       "    }\n",
       "</style>\n",
       "<table border=\"1\" class=\"dataframe\">\n",
       "  <thead>\n",
       "    <tr style=\"text-align: right;\">\n",
       "      <th></th>\n",
       "      <th>PPG</th>\n",
       "      <th>ECG</th>\n",
       "      <th>resp</th>\n",
       "      <th>Class</th>\n",
       "    </tr>\n",
       "  </thead>\n",
       "  <tbody>\n",
       "    <tr>\n",
       "      <th>0</th>\n",
       "      <td>0.414467</td>\n",
       "      <td>0.365325</td>\n",
       "      <td>-0.207831</td>\n",
       "      <td>0</td>\n",
       "    </tr>\n",
       "    <tr>\n",
       "      <th>1</th>\n",
       "      <td>0.266667</td>\n",
       "      <td>0.515625</td>\n",
       "      <td>0.221509</td>\n",
       "      <td>1</td>\n",
       "    </tr>\n",
       "    <tr>\n",
       "      <th>2</th>\n",
       "      <td>0.266667</td>\n",
       "      <td>0.382812</td>\n",
       "      <td>0.221509</td>\n",
       "      <td>0</td>\n",
       "    </tr>\n",
       "    <tr>\n",
       "      <th>3</th>\n",
       "      <td>2.384164</td>\n",
       "      <td>0.264907</td>\n",
       "      <td>-0.914089</td>\n",
       "      <td>0</td>\n",
       "    </tr>\n",
       "    <tr>\n",
       "      <th>4</th>\n",
       "      <td>0.650049</td>\n",
       "      <td>0.689453</td>\n",
       "      <td>0.148583</td>\n",
       "      <td>1</td>\n",
       "    </tr>\n",
       "  </tbody>\n",
       "</table>\n",
       "</div>"
      ],
      "text/plain": [
       "        PPG       ECG      resp  Class\n",
       "0  0.414467  0.365325 -0.207831      0\n",
       "1  0.266667  0.515625  0.221509      1\n",
       "2  0.266667  0.382812  0.221509      0\n",
       "3  2.384164  0.264907 -0.914089      0\n",
       "4  0.650049  0.689453  0.148583      1"
      ]
     },
     "execution_count": 53,
     "metadata": {},
     "output_type": "execute_result"
    }
   ],
   "source": [
    "df.head()"
   ]
  },
  {
   "cell_type": "markdown",
   "metadata": {},
   "source": [
    "## Correlation"
   ]
  },
  {
   "cell_type": "code",
   "execution_count": 54,
   "metadata": {},
   "outputs": [
    {
     "name": "stdout",
     "output_type": "stream",
     "text": [
      "           PPG       ECG      resp\n",
      "PPG   1.000000 -0.089126 -0.045083\n",
      "ECG  -0.089126  1.000000  0.021625\n",
      "resp -0.045083  0.021625  1.000000\n"
     ]
    },
    {
     "data": {
      "image/png": "[encoded data removed]",
      "text/plain": [
       "<Figure size 640x480 with 2 Axes>"
      ]
     },
     "metadata": {},
     "output_type": "display_data"
    }
   ],
   "source": [
    "import seaborn as sns\n",
    "import matplotlib.pyplot as plt\n",
    "\n",
    "correlation_matrix = df[['PPG', 'ECG', 'resp']].corr()\n",
    "\n",
    "print(correlation_matrix)\n",
    "\n",
    "sns.heatmap(correlation_matrix, annot=True, cmap='coolwarm', cbar=True, square=True)\n",
    "plt.title('Correlation Heatmap between PPG and ECG')\n",
    "plt.show()"
   ]
  },
  {
   "cell_type": "markdown",
   "metadata": {},
   "source": [
    "Split"
   ]
  },
  {
   "cell_type": "code",
   "execution_count": 55,
   "metadata": {},
   "outputs": [],
   "source": [
    "X = df.drop(\"Class\", axis = 1)\n",
    "y = df[\"Class\"]"
   ]
  },
  {
   "cell_type": "code",
   "execution_count": 56,
   "metadata": {},
   "outputs": [
    {
     "name": "stdout",
     "output_type": "stream",
     "text": [
      "PPG     float64\n",
      "ECG     float64\n",
      "resp    float64\n",
      "dtype: object\n",
      "PPG     0\n",
      "ECG     0\n",
      "resp    0\n",
      "dtype: int64\n"
     ]
    }
   ],
   "source": [
    "X_train, X_test, y_train, y_test = train_test_split(X, y, test_size=0.33, random_state=42)\n",
    "\n",
    "print(X_train.dtypes)\n",
    "print(X_train.isnull().sum())"
   ]
  },
  {
   "cell_type": "markdown",
   "metadata": {},
   "source": [
    "## Model"
   ]
  },
  {
   "cell_type": "code",
   "execution_count": 57,
   "metadata": {},
   "outputs": [],
   "source": [
    "model_Acc_List = []\n",
    "model_Name_List = [\"RFClassifier\", \"KNClassifier\", \"ABClassifier\", \"SGDClassifier\"]"
   ]
  },
  {
   "cell_type": "markdown",
   "metadata": {},
   "source": [
    "Random Forest"
   ]
  },
  {
   "cell_type": "code",
   "execution_count": 58,
   "metadata": {},
   "outputs": [
    {
     "name": "stdout",
     "output_type": "stream",
     "text": [
      "Acc = 0.9016078054143191\n",
      "              precision    recall  f1-score   support\n",
      "\n",
      "           0       0.91      0.91      0.91      3965\n",
      "           1       0.89      0.89      0.89      3312\n",
      "\n",
      "    accuracy                           0.90      7277\n",
      "   macro avg       0.90      0.90      0.90      7277\n",
      "weighted avg       0.90      0.90      0.90      7277\n",
      "\n"
     ]
    }
   ],
   "source": [
    "clf = RandomForestClassifier(random_state=50)\n",
    "clf.fit(X_train, y_train)\n",
    "\n",
    "predic = clf.predict(X_test)\n",
    "\n",
    "acc = accuracy_score(predic, y_test)\n",
    "model_Acc_List.append(acc)\n",
    "print(f\"Acc = {acc}\")\n",
    "\n",
    "report = classification_report(predic, y_test)\n",
    "print(report)\n",
    "\n",
    "# Save the RandomForestClassifier model using pickle\n",
    "with open(\"models/RandomForestClassifier_model.pkl\", \"wb\") as f:\n",
    "    pickle.dump(clf, f)"
   ]
  },
  {
   "cell_type": "markdown",
   "metadata": {},
   "source": [
    "KNeighborsClassifier"
   ]
  },
  {
   "cell_type": "code",
   "execution_count": 59,
   "metadata": {},
   "outputs": [
    {
     "name": "stdout",
     "output_type": "stream",
     "text": [
      "Acc :  0.8715129861206541\n",
      "              precision    recall  f1-score   support\n",
      "\n",
      "           0       0.88      0.88      0.88      3970\n",
      "           1       0.86      0.86      0.86      3307\n",
      "\n",
      "    accuracy                           0.87      7277\n",
      "   macro avg       0.87      0.87      0.87      7277\n",
      "weighted avg       0.87      0.87      0.87      7277\n",
      "\n"
     ]
    }
   ],
   "source": [
    "model = KNeighborsClassifier(n_neighbors=7)\n",
    "model.fit(X_train, y_train)\n",
    "\n",
    "predic = model.predict(X_test)\n",
    "acc = accuracy_score(predic, y_test)\n",
    "\n",
    "model_Acc_List.append(acc)\n",
    "print(\"Acc : \", acc)\n",
    "\n",
    "report = classification_report(predic, y_test)\n",
    "print(report)\n",
    "\n",
    "# Save the KNeighborsClassifier model using pickle\n",
    "with open(\"models/KNeighborsClassifier_model.pkl\", \"wb\") as f:\n",
    "    pickle.dump(model, f)"
   ]
  },
  {
   "cell_type": "markdown",
   "metadata": {},
   "source": [
    "AdaBoostClassifier"
   ]
  },
  {
   "cell_type": "code",
   "execution_count": 60,
   "metadata": {},
   "outputs": [
    {
     "name": "stderr",
     "output_type": "stream",
     "text": [
      "c:\\Users\\muham\\OneDrive\\Desktop\\Portfolio\\Websites\\AFIB extractor\\venv\\Lib\\site-packages\\sklearn\\ensemble\\_weight_boosting.py:519: FutureWarning: The SAMME.R algorithm (the default) is deprecated and will be removed in 1.6. Use the SAMME algorithm to circumvent this warning.\n",
      "  warnings.warn(\n"
     ]
    },
    {
     "name": "stdout",
     "output_type": "stream",
     "text": [
      "Acc :  0.7393156520544181\n",
      "              precision    recall  f1-score   support\n",
      "\n",
      "           0       0.77      0.76      0.76      4010\n",
      "           1       0.71      0.72      0.71      3267\n",
      "\n",
      "    accuracy                           0.74      7277\n",
      "   macro avg       0.74      0.74      0.74      7277\n",
      "weighted avg       0.74      0.74      0.74      7277\n",
      "\n"
     ]
    }
   ],
   "source": [
    "model = AdaBoostClassifier()\n",
    "model.fit(X_train, y_train)\n",
    "\n",
    "predic = model.predict(X_test)\n",
    "\n",
    "acc = accuracy_score(predic, y_test)\n",
    "model_Acc_List.append(acc)\n",
    "print(\"Acc : \", acc)\n",
    "\n",
    "report = classification_report(predic, y_test)\n",
    "print(report)\n",
    "\n",
    "# Save the AdaBoostClassifier model using pickle\n",
    "with open(\"models/AdaBoostClassifier_model.pkl\", \"wb\") as f:\n",
    "    pickle.dump(model, f)"
   ]
  },
  {
   "cell_type": "markdown",
   "metadata": {},
   "source": [
    "SGDClassifier"
   ]
  },
  {
   "cell_type": "code",
   "execution_count": 61,
   "metadata": {},
   "outputs": [
    {
     "name": "stdout",
     "output_type": "stream",
     "text": [
      "Acc :  0.5448673904081353\n",
      "              precision    recall  f1-score   support\n",
      "\n",
      "           0       1.00      0.54      0.71      7277\n",
      "           1       0.00      0.00      0.00         0\n",
      "\n",
      "    accuracy                           0.54      7277\n",
      "   macro avg       0.50      0.27      0.35      7277\n",
      "weighted avg       1.00      0.54      0.71      7277\n",
      "\n"
     ]
    },
    {
     "name": "stderr",
     "output_type": "stream",
     "text": [
      "c:\\Users\\muham\\OneDrive\\Desktop\\Portfolio\\Websites\\AFIB extractor\\venv\\Lib\\site-packages\\sklearn\\metrics\\_classification.py:1509: UndefinedMetricWarning: Recall is ill-defined and being set to 0.0 in labels with no true samples. Use `zero_division` parameter to control this behavior.\n",
      "  _warn_prf(average, modifier, f\"{metric.capitalize()} is\", len(result))\n",
      "c:\\Users\\muham\\OneDrive\\Desktop\\Portfolio\\Websites\\AFIB extractor\\venv\\Lib\\site-packages\\sklearn\\metrics\\_classification.py:1509: UndefinedMetricWarning: Recall is ill-defined and being set to 0.0 in labels with no true samples. Use `zero_division` parameter to control this behavior.\n",
      "  _warn_prf(average, modifier, f\"{metric.capitalize()} is\", len(result))\n",
      "c:\\Users\\muham\\OneDrive\\Desktop\\Portfolio\\Websites\\AFIB extractor\\venv\\Lib\\site-packages\\sklearn\\metrics\\_classification.py:1509: UndefinedMetricWarning: Recall is ill-defined and being set to 0.0 in labels with no true samples. Use `zero_division` parameter to control this behavior.\n",
      "  _warn_prf(average, modifier, f\"{metric.capitalize()} is\", len(result))\n"
     ]
    }
   ],
   "source": [
    "model = SGDClassifier()\n",
    "\n",
    "model.fit(X_train, y_train)\n",
    "predic = model.predict(X_test)\n",
    "\n",
    "acc = accuracy_score(predic, y_test)\n",
    "model_Acc_List.append(acc)\n",
    "print(\"Acc : \", acc)\n",
    "\n",
    "report = classification_report(predic, y_test)\n",
    "print(report)\n",
    "\n",
    "# Save the SGDClassifier model using pickle\n",
    "with open(\"models/SGDClassifier_model.pkl\", \"wb\") as f:\n",
    "    pickle.dump(model, f)"
   ]
  },
  {
   "cell_type": "markdown",
   "metadata": {},
   "source": [
    "## Results"
   ]
  },
  {
   "cell_type": "code",
   "execution_count": 62,
   "metadata": {},
   "outputs": [
    {
     "name": "stdout",
     "output_type": "stream",
     "text": [
      "[0.9016078054143191, 0.8715129861206541, 0.7393156520544181, 0.5448673904081353]\n",
      "['RFClassifier', 'KNClassifier', 'ABClassifier', 'SGDClassifier']\n"
     ]
    }
   ],
   "source": [
    "print(model_Acc_List)\n",
    "print(model_Name_List)"
   ]
  },
  {
   "cell_type": "code",
   "execution_count": 63,
   "metadata": {},
   "outputs": [
    {
     "data": {
      "image/png": "[encoded data removed]",
      "text/plain": [
       "<Figure size 800x500 with 1 Axes>"
      ]
     },
     "metadata": {},
     "output_type": "display_data"
    }
   ],
   "source": [
    "plt.figure(figsize=(8, 5))\n",
    "plt.bar(model_Name_List, model_Acc_List, color='blue')\n",
    "plt.title('Accuracy Comparison of Different Models')\n",
    "plt.xlabel('Models')\n",
    "plt.ylabel('Accuracy')\n",
    "plt.ylim(0, 1)\n",
    "plt.show()"
   ]
  },
  {
   "cell_type": "markdown",
   "metadata": {},
   "source": [
    "## Random forest is best answer"
   ]
  },
  {
   "cell_type": "code",
   "execution_count": null,
   "metadata": {},
   "outputs": [],
   "source": []
  }
 ],
 "metadata": {
  "kernelspec": {
   "display_name": "venv",
   "language": "python",
   "name": "python3"
  },
  "language_info": {
   "codemirror_mode": {
    "name": "ipython",
    "version": 3
   },
   "file_extension": ".py",
   "mimetype": "text/x-python",
   "name": "python",
   "nbconvert_exporter": "python",
   "pygments_lexer": "ipython3",
   "version": "3.11.5"
  }
 },
 "nbformat": 4,
 "nbformat_minor": 2
}
